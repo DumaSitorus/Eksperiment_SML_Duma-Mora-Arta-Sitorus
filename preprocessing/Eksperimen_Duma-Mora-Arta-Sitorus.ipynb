{
  "cells": [
    {
      "cell_type": "markdown",
      "metadata": {
        "id": "kZLRMFl0JyyQ"
      },
      "source": [
        "# **1. Perkenalan Dataset**\n"
      ]
    },
    {
      "cell_type": "markdown",
      "metadata": {
        "id": "hssSDn-5n3HR"
      },
      "source": [
        "1. **Nama Dataset**:  \n",
        "   Stunting Toddler (Balita) Detection \n",
        "\n",
        "2. **Sumber Dataset**:  \n",
        "   Dataset diperoleh dari public repositories *Kaggle* yang dapat diakses melalui tautan berikut: https://www.kaggle.com/datasets/rendiputra/stunting-balita-detection-121k-rows\n",
        "\n",
        "3. **Penjelasan Dataset**:  \n",
        "   Dataset Stunting Todler Detection berisi 120.999 baris data yang terdiri atas 4 kolom yaitu age (umur), sex (jenis kelamin), height (tinggi badan), dan status nutrisi balita. Data set ini dapat digunakan untuk membantu dalam penyelesaian permasalahan stinting pada anak balita (bayi dibawah lima tahun).\n",
        "\n",
        "4. **Penjelasan Kolom**:\n",
        "   Data set Stunting Toddler terdiri atas 4 kolom, berikut rincian dari setiap kolom dalam dataset.\n",
        "   - Umur (Bulan):  usia balita dalam bulan. Rentang usia ini penting untuk menentukan fase pertumbuhan anak dan membandingkannya dengan standar pertumbuhan yang sehat. Umur 0 sampai 60 bulan\n",
        "   - Jenis Kelamin: Terdapat dua kategori dalam kolom ini, 'laki-laki' (male) dan 'perempuan' (female). Jenis kelamin merupakan faktor penting dalam analisis pola pertumbuhan dan risiko stunting.\n",
        "   - Tinggi Badan: Dalam centimeter, tinggi badan adalah indikator utama untuk menilai pertumbuhan fisik balita. Data ini memungkinkan peneliti untuk menentukan apakah pertumbuhan anak sesuai dengan standar usianya.\n",
        "   - Status Gizi: Kolom ini dikategorikan menjadi 4 status - 'severely stunting', 'stunting', 'normal', dan 'tinggi'. 'Severely stunting' menunjukkan kondisi sangat serius (<-3 SD), 'stunting' menunjukkan kondisi stunting (-3 SD sd <-2 SD), 'normal' mengindikasikan status gizi yang sehat (-2 SD sd +3 SD), dan 'tinggi' (height) menunjukkan pertumbuhan di atas rata-rata (>+3 SD). Kategori ini membantu dalam identifikasi cepat dan intervensi bagi anak-anak yang berisiko atau mengalami masalah pertumbuhan."
      ]
    },
    {
      "cell_type": "markdown",
      "metadata": {
        "id": "fKADPWcFKlj3"
      },
      "source": [
        "# **2. Import Library**"
      ]
    },
    {
      "cell_type": "markdown",
      "metadata": {
        "id": "LgA3ERnVn84N"
      },
      "source": [
        "Pada tahap ini, Anda perlu mengimpor beberapa pustaka (library) Python yang dibutuhkan untuk analisis data dan pembangunan model machine learning atau deep learning."
      ]
    },
    {
      "cell_type": "code",
      "execution_count": 136,
      "metadata": {
        "id": "BlmvjLY9M4Yj"
      },
      "outputs": [],
      "source": [
        "#Type your code here\n",
        "import numpy as np\n",
        "import pandas as pd\n",
        "import matplotlib.pyplot as plt\n",
        "import seaborn as sns"
      ]
    },
    {
      "cell_type": "markdown",
      "metadata": {
        "id": "f3YIEnAFKrKL"
      },
      "source": [
        "# **3. Memuat Dataset**"
      ]
    },
    {
      "cell_type": "markdown",
      "metadata": {
        "id": "Ey3ItwTen_7E"
      },
      "source": [
        "Pada tahap ini, Anda perlu memuat dataset ke dalam notebook. Jika dataset dalam format CSV, Anda bisa menggunakan pustaka pandas untuk membacanya. Pastikan untuk mengecek beberapa baris awal dataset untuk memahami strukturnya dan memastikan data telah dimuat dengan benar.\n",
        "\n",
        "Jika dataset berada di Google Drive, pastikan Anda menghubungkan Google Drive ke Colab terlebih dahulu. Setelah dataset berhasil dimuat, langkah berikutnya adalah memeriksa kesesuaian data dan siap untuk dianalisis lebih lanjut.\n",
        "\n",
        "Jika dataset berupa unstructured data, silakan sesuaikan dengan format seperti kelas Machine Learning Pengembangan atau Machine Learning Terapan"
      ]
    },
    {
      "cell_type": "code",
      "execution_count": 137,
      "metadata": {
        "id": "GHCGNTyrM5fS"
      },
      "outputs": [
        {
          "data": {
            "text/html": [
              "<div>\n",
              "<style scoped>\n",
              "    .dataframe tbody tr th:only-of-type {\n",
              "        vertical-align: middle;\n",
              "    }\n",
              "\n",
              "    .dataframe tbody tr th {\n",
              "        vertical-align: top;\n",
              "    }\n",
              "\n",
              "    .dataframe thead th {\n",
              "        text-align: right;\n",
              "    }\n",
              "</style>\n",
              "<table border=\"1\" class=\"dataframe\">\n",
              "  <thead>\n",
              "    <tr style=\"text-align: right;\">\n",
              "      <th></th>\n",
              "      <th>Umur (bulan)</th>\n",
              "      <th>Jenis Kelamin</th>\n",
              "      <th>Tinggi Badan (cm)</th>\n",
              "      <th>Status Gizi</th>\n",
              "    </tr>\n",
              "  </thead>\n",
              "  <tbody>\n",
              "    <tr>\n",
              "      <th>0</th>\n",
              "      <td>0</td>\n",
              "      <td>laki-laki</td>\n",
              "      <td>44.591973</td>\n",
              "      <td>stunted</td>\n",
              "    </tr>\n",
              "    <tr>\n",
              "      <th>1</th>\n",
              "      <td>0</td>\n",
              "      <td>laki-laki</td>\n",
              "      <td>56.705203</td>\n",
              "      <td>tinggi</td>\n",
              "    </tr>\n",
              "    <tr>\n",
              "      <th>2</th>\n",
              "      <td>0</td>\n",
              "      <td>laki-laki</td>\n",
              "      <td>46.863358</td>\n",
              "      <td>normal</td>\n",
              "    </tr>\n",
              "    <tr>\n",
              "      <th>3</th>\n",
              "      <td>0</td>\n",
              "      <td>laki-laki</td>\n",
              "      <td>47.508026</td>\n",
              "      <td>normal</td>\n",
              "    </tr>\n",
              "    <tr>\n",
              "      <th>4</th>\n",
              "      <td>0</td>\n",
              "      <td>laki-laki</td>\n",
              "      <td>42.743494</td>\n",
              "      <td>severely stunted</td>\n",
              "    </tr>\n",
              "    <tr>\n",
              "      <th>5</th>\n",
              "      <td>0</td>\n",
              "      <td>laki-laki</td>\n",
              "      <td>44.257719</td>\n",
              "      <td>stunted</td>\n",
              "    </tr>\n",
              "    <tr>\n",
              "      <th>6</th>\n",
              "      <td>0</td>\n",
              "      <td>laki-laki</td>\n",
              "      <td>59.572523</td>\n",
              "      <td>tinggi</td>\n",
              "    </tr>\n",
              "    <tr>\n",
              "      <th>7</th>\n",
              "      <td>0</td>\n",
              "      <td>laki-laki</td>\n",
              "      <td>42.701796</td>\n",
              "      <td>severely stunted</td>\n",
              "    </tr>\n",
              "    <tr>\n",
              "      <th>8</th>\n",
              "      <td>0</td>\n",
              "      <td>laki-laki</td>\n",
              "      <td>45.251779</td>\n",
              "      <td>stunted</td>\n",
              "    </tr>\n",
              "    <tr>\n",
              "      <th>9</th>\n",
              "      <td>0</td>\n",
              "      <td>laki-laki</td>\n",
              "      <td>57.201961</td>\n",
              "      <td>tinggi</td>\n",
              "    </tr>\n",
              "  </tbody>\n",
              "</table>\n",
              "</div>"
            ],
            "text/plain": [
              "   Umur (bulan) Jenis Kelamin  Tinggi Badan (cm)       Status Gizi\n",
              "0             0     laki-laki          44.591973           stunted\n",
              "1             0     laki-laki          56.705203            tinggi\n",
              "2             0     laki-laki          46.863358            normal\n",
              "3             0     laki-laki          47.508026            normal\n",
              "4             0     laki-laki          42.743494  severely stunted\n",
              "5             0     laki-laki          44.257719           stunted\n",
              "6             0     laki-laki          59.572523            tinggi\n",
              "7             0     laki-laki          42.701796  severely stunted\n",
              "8             0     laki-laki          45.251779           stunted\n",
              "9             0     laki-laki          57.201961            tinggi"
            ]
          },
          "execution_count": 137,
          "metadata": {},
          "output_type": "execute_result"
        }
      ],
      "source": [
        "#Type your code here\n",
        "df = pd.read_csv(\"../data_balita_raw.csv\")\n",
        "df.head(10)"
      ]
    },
    {
      "cell_type": "markdown",
      "metadata": {
        "id": "bgZkbJLpK9UR"
      },
      "source": [
        "# **4. Exploratory Data Analysis (EDA)**\n",
        "\n",
        "Pada tahap ini, akan dilakukan **Exploratory Data Analysis (EDA)** untuk memahami karakteristik dataset.\n",
        "\n",
        "Tujuan dari EDA adalah untuk memperoleh wawasan awal yang mendalam mengenai data dan menentukan langkah selanjutnya dalam analisis atau pemodelan."
      ]
    },
    {
      "cell_type": "code",
      "execution_count": 138,
      "metadata": {
        "id": "dKeejtvxM6X1"
      },
      "outputs": [
        {
          "name": "stdout",
          "output_type": "stream",
          "text": [
            "<class 'pandas.core.frame.DataFrame'>\n",
            "RangeIndex: 120999 entries, 0 to 120998\n",
            "Data columns (total 4 columns):\n",
            " #   Column             Non-Null Count   Dtype  \n",
            "---  ------             --------------   -----  \n",
            " 0   Umur (bulan)       120999 non-null  int64  \n",
            " 1   Jenis Kelamin      120999 non-null  object \n",
            " 2   Tinggi Badan (cm)  120999 non-null  float64\n",
            " 3   Status Gizi        120999 non-null  object \n",
            "dtypes: float64(1), int64(1), object(2)\n",
            "memory usage: 3.7+ MB\n"
          ]
        }
      ],
      "source": [
        "df.info()"
      ]
    },
    {
      "cell_type": "markdown",
      "metadata": {},
      "source": [
        "Insight:\n",
        "- Dataset terdiri dari 4 buah kolom dengna 120999 baris data bertipe angka untuk usia, string untuk jenis kelamin, desimal untuk tinggi badan dan string untuk status gizi.\n",
        "- Tidak ada missing value sehingga tidak perlu penanganan missing value\n",
        "- Data pada kolom jenis kelamin dan status gizi berupa string sehingga perlu untuk di encoding"
      ]
    },
    {
      "cell_type": "code",
      "execution_count": 139,
      "metadata": {},
      "outputs": [
        {
          "data": {
            "text/html": [
              "<div>\n",
              "<style scoped>\n",
              "    .dataframe tbody tr th:only-of-type {\n",
              "        vertical-align: middle;\n",
              "    }\n",
              "\n",
              "    .dataframe tbody tr th {\n",
              "        vertical-align: top;\n",
              "    }\n",
              "\n",
              "    .dataframe thead th {\n",
              "        text-align: right;\n",
              "    }\n",
              "</style>\n",
              "<table border=\"1\" class=\"dataframe\">\n",
              "  <thead>\n",
              "    <tr style=\"text-align: right;\">\n",
              "      <th></th>\n",
              "      <th>Umur (bulan)</th>\n",
              "      <th>Tinggi Badan (cm)</th>\n",
              "    </tr>\n",
              "  </thead>\n",
              "  <tbody>\n",
              "    <tr>\n",
              "      <th>count</th>\n",
              "      <td>120999.000000</td>\n",
              "      <td>120999.000000</td>\n",
              "    </tr>\n",
              "    <tr>\n",
              "      <th>mean</th>\n",
              "      <td>30.173803</td>\n",
              "      <td>88.655434</td>\n",
              "    </tr>\n",
              "    <tr>\n",
              "      <th>std</th>\n",
              "      <td>17.575119</td>\n",
              "      <td>17.300997</td>\n",
              "    </tr>\n",
              "    <tr>\n",
              "      <th>min</th>\n",
              "      <td>0.000000</td>\n",
              "      <td>40.010437</td>\n",
              "    </tr>\n",
              "    <tr>\n",
              "      <th>25%</th>\n",
              "      <td>15.000000</td>\n",
              "      <td>77.000000</td>\n",
              "    </tr>\n",
              "    <tr>\n",
              "      <th>50%</th>\n",
              "      <td>30.000000</td>\n",
              "      <td>89.800000</td>\n",
              "    </tr>\n",
              "    <tr>\n",
              "      <th>75%</th>\n",
              "      <td>45.000000</td>\n",
              "      <td>101.200000</td>\n",
              "    </tr>\n",
              "    <tr>\n",
              "      <th>max</th>\n",
              "      <td>60.000000</td>\n",
              "      <td>128.000000</td>\n",
              "    </tr>\n",
              "  </tbody>\n",
              "</table>\n",
              "</div>"
            ],
            "text/plain": [
              "        Umur (bulan)  Tinggi Badan (cm)\n",
              "count  120999.000000      120999.000000\n",
              "mean       30.173803          88.655434\n",
              "std        17.575119          17.300997\n",
              "min         0.000000          40.010437\n",
              "25%        15.000000          77.000000\n",
              "50%        30.000000          89.800000\n",
              "75%        45.000000         101.200000\n",
              "max        60.000000         128.000000"
            ]
          },
          "execution_count": 139,
          "metadata": {},
          "output_type": "execute_result"
        }
      ],
      "source": [
        "df.describe()"
      ]
    },
    {
      "cell_type": "markdown",
      "metadata": {},
      "source": [
        "Insight:\n",
        "- Fitur numerik terdiri dari umur dan tinggi badan.\n",
        "- Tampak bahwa fitur umur memiliki nilai minimum 0 (bayi baru lahir) dan masimal 60 (5 tahun) dan rata-rata berusia 30 bulan. Sehingga, tidak ada invalid value terdeteksi pada fitur Umur\n",
        "- Tampak bahwa fitur tinggi badan memiliki tinggi minimal 40.01 cm, ini menunjukkan angka yang sangat kecil dan jarang dialami kecuali dalam kasus prematur. Data yang sangar kecil ini dapat mengindikasikan outlier.\n"
      ]
    },
    {
      "cell_type": "code",
      "execution_count": 140,
      "metadata": {},
      "outputs": [
        {
          "data": {
            "image/png": "[encoded data removed]",
            "text/plain": [
              "<Figure size 500x500 with 1 Axes>"
            ]
          },
          "metadata": {},
          "output_type": "display_data"
        }
      ],
      "source": [
        "# Tentukan figure 1 plot saja\n",
        "fig, ax = plt.subplots(figsize=(5, 5))\n",
        "\n",
        "# Plot countplot untuk kolom 'Jenis Kelamin'\n",
        "sns.countplot(x='Status Gizi', data=df, hue='Status Gizi', palette='pastel', ax=ax)\n",
        "ax.set_title('Status Gizi', fontsize=11)\n",
        "ax.set_xlabel('')\n",
        "ax.set_ylabel('')\n",
        "ax.tick_params(axis='x')\n",
        "\n",
        "# Tambahkan label jumlah di atas batang\n",
        "for p in ax.patches:\n",
        "    height = p.get_height()\n",
        "    ax.annotate(f'{int(height)}', \n",
        "                (p.get_x() + p.get_width() / 2., height), \n",
        "                ha='center', va='bottom', fontsize=8)\n",
        "\n",
        "plt.tight_layout()\n",
        "plt.show()"
      ]
    },
    {
      "cell_type": "markdown",
      "metadata": {},
      "source": [
        "Insight: \n",
        "- Distribusi data status gizi dalam dataset didominasi oleh data normal dengan jumlah 67755 data, hal ini mengindikasikan imbalance data yang dapat menyebabkan model sangat handal dalam memprediksi kasus normal namun buruk dalam kasus lainnya (stunted, tinggi, severely stunted)\n",
        "- Dapat mempertimbangkan untuk melakukan penanganan terhadap imbalance data baik dengan resampling data baik dengan melakukan Oversampling maupun Undersampling"
      ]
    },
    {
      "cell_type": "code",
      "execution_count": 141,
      "metadata": {},
      "outputs": [
        {
          "name": "stderr",
          "output_type": "stream",
          "text": [
            "C:\\Users\\hi\\AppData\\Local\\Temp\\ipykernel_20648\\3570238713.py:1: FutureWarning: \n",
            "\n",
            "Passing `palette` without assigning `hue` is deprecated and will be removed in v0.14.0. Assign the `x` variable to `hue` and set `legend=False` for the same effect.\n",
            "\n",
            "  ax = sns.countplot(x='Jenis Kelamin', palette=\"pastel\", data=df)\n"
          ]
        },
        {
          "data": {
            "image/png": "[encoded data removed]",
            "text/plain": [
              "<Figure size 640x480 with 1 Axes>"
            ]
          },
          "metadata": {},
          "output_type": "display_data"
        }
      ],
      "source": [
        "ax = sns.countplot(x='Jenis Kelamin', palette=\"pastel\", data=df)\n",
        "\n",
        "# jumlah data per unik value\n",
        "for p in ax.patches:\n",
        "    ax.annotate(f'{p.get_height()}',\n",
        "                (p.get_x() + p.get_width() / 2., p.get_height()),\n",
        "                ha='center', va='center',\n",
        "                fontsize=12, color='black',\n",
        "                xytext=(0, 5), textcoords='offset points')\n",
        "\n",
        "# plot\n",
        "plt.title('Distribusi Outcome Diabetes')\n",
        "plt.xlabel('Jenis Kelamin')\n",
        "plt.ylabel('Jumlah')\n",
        "plt.show()"
      ]
    },
    {
      "cell_type": "markdown",
      "metadata": {},
      "source": [
        "Insight:\n",
        "Distribusi data jenis kelamin untuk perempuan lebih banyak dibantingkan laki-laki"
      ]
    },
    {
      "cell_type": "code",
      "execution_count": 142,
      "metadata": {},
      "outputs": [
        {
          "data": {
            "image/png": "[encoded data removed]",
            "text/plain": [
              "<Figure size 500x500 with 1 Axes>"
            ]
          },
          "metadata": {},
          "output_type": "display_data"
        }
      ],
      "source": [
        "# Tentukan figure 1 plot saja\n",
        "fig, ax = plt.subplots(figsize=(5, 5))\n",
        "\n",
        "# Plot countplot untuk kolom 'Jenis Kelamin'\n",
        "sns.countplot(x='Jenis Kelamin', data=df, hue='Status Gizi', palette='pastel', ax=ax)\n",
        "ax.set_title('Status Gizi vs Jenis Kelamin', fontsize=11)\n",
        "ax.set_xlabel('')\n",
        "ax.set_ylabel('')\n",
        "ax.tick_params(axis='x')\n",
        "\n",
        "# Tambahkan label jumlah di atas batang\n",
        "for p in ax.patches:\n",
        "    height = p.get_height()\n",
        "    ax.annotate(f'{int(height)}', \n",
        "                (p.get_x() + p.get_width() / 2., height), \n",
        "                ha='center', va='bottom', fontsize=8)\n",
        "\n",
        "# Pindahkan legend ke bawah\n",
        "ax.legend(loc='upper center', bbox_to_anchor=(0.5, -0.15), ncol=2)\n",
        "\n",
        "plt.tight_layout()\n",
        "plt.show()"
      ]
    },
    {
      "cell_type": "markdown",
      "metadata": {},
      "source": [
        "Insight: \n",
        "- Angka severely stunted sering terjadi pada anak berjenis kelamin laki-laki, mencapai 10374\n",
        "- Angka anak yang normal, tinggi, serta stunned didominasi oleh balita berjenis kelamin perempuan, ini sebanding dengan jumlah perempuan"
      ]
    },
    {
      "cell_type": "code",
      "execution_count": 143,
      "metadata": {},
      "outputs": [
        {
          "data": {
            "image/png": "[encoded data removed]",
            "text/plain": [
              "<Figure size 1500x500 with 2 Axes>"
            ]
          },
          "metadata": {},
          "output_type": "display_data"
        }
      ],
      "source": [
        "bins_umur = [0, 12, 24, 36, 48, 60]\n",
        "labels_umur = [1, 2, 3, 4, 5]\n",
        "\n",
        "df['Umur_Group'] = pd.cut(df['Umur (bulan)'], bins=bins_umur, labels=labels_umur, include_lowest=True)\n",
        "\n",
        "bins_tb = np.arange(40, 130 + 10, 10)  # 40-129\n",
        "labels_tb = np.arange(1, len(bins_tb))\n",
        "\n",
        "df['Tinggi_Group'] = pd.cut(df['Tinggi Badan (cm)'], bins=bins_tb, labels=labels_tb, include_lowest=True)\n",
        "\n",
        "labels_tb = ['40-49', '50-59', '60-69', '70-79', '80-89', '90-99', '100-109', '110-119', '120-129']\n",
        "df['Tinggi_Group'] = pd.cut(df['Tinggi Badan (cm)'], bins=bins_tb, labels=labels_tb, include_lowest=True)\n",
        "\n",
        "kategorik_fitur = ['Umur_Group', 'Tinggi_Group']\n",
        "\n",
        "# Tentukan ukuran grid otomatis\n",
        "rows, cols = 1, 2  # kamu bisa sesuaikan jumlah kolom\n",
        "fig, axes = plt.subplots(rows, cols, figsize=(15, 5))\n",
        "axes = axes.flatten()\n",
        "\n",
        "# Loop untuk plot countplot per fitur\n",
        "for i, col in enumerate(kategorik_fitur):\n",
        "    ax = axes[i]\n",
        "    sns.countplot(x=col, data=df, hue='Status Gizi', palette='pastel', ax=ax)\n",
        "    ax.set_title(f'Status Gizi vs {col}', fontsize=11)\n",
        "    ax.set_xlabel('')\n",
        "    ax.set_ylabel('')\n",
        "    ax.tick_params(axis='x', rotation=0)  \n",
        "\n",
        "for j in range(len(kategorik_fitur), len(axes)):\n",
        "    fig.delaxes(axes[j])\n",
        "\n",
        "plt.tight_layout()\n",
        "plt.show()\n"
      ]
    },
    {
      "cell_type": "markdown",
      "metadata": {},
      "source": [
        "Insight:\n",
        "- Balita dengna usia - dan 5 tahun banyak yang menderita stanting\n",
        "- Balita dengan usia 1-3 tahun banyak yang menderita severely stunted atau kondisi stunting yang sangat serius\n",
        "- Balita dengan tinggi > 100 cm diindikasikan sebagai normal dan tinggi\n",
        "- Balita dibawah 100 cm masih banyak yang terindikasi stuntin, namun tidak dapat disimpulkan kerena data tinggi memerlukan korelasi dengan usia"
      ]
    },
    {
      "cell_type": "code",
      "execution_count": 144,
      "metadata": {},
      "outputs": [
        {
          "data": {
            "image/png": "[encoded data removed]",
            "text/plain": [
              "<Figure size 2000x1500 with 6 Axes>"
            ]
          },
          "metadata": {},
          "output_type": "display_data"
        }
      ],
      "source": [
        "# boxplot\n",
        "plt.figure(figsize=(20, 15))\n",
        "\n",
        "for i, column in enumerate(df.columns, 1):\n",
        "    plt.subplot(3, 3, i)\n",
        "    sns.boxplot(y=df[column])\n",
        "    plt.title(f'Boxplot of {column}')\n",
        "\n",
        "plt.tight_layout()\n",
        "plt.show()"
      ]
    },
    {
      "cell_type": "markdown",
      "metadata": {},
      "source": [
        "Insight:\n",
        "- Berdasarkan box plot diatas, fitur umur, jenis kelamin dan status gizi tidak memiliki data outlier, sehingga tidak diperlukan pananganan outlier\n",
        "- Fitur Tinggi badan memiliki data outlier sehingga perlu dilakukan penanganan"
      ]
    },
    {
      "cell_type": "code",
      "execution_count": 145,
      "metadata": {},
      "outputs": [
        {
          "name": "stdout",
          "output_type": "stream",
          "text": [
            "Jumlah duplikasi:  81574\n"
          ]
        }
      ],
      "source": [
        "print(\"Jumlah duplikasi: \", df.duplicated().sum())"
      ]
    },
    {
      "cell_type": "markdown",
      "metadata": {},
      "source": [
        "Insight:\n",
        "- Masih terdapat banyak sekali jumlah duplikasi data\n",
        "- Hal ini dapat ditangani dengan drop data yang duplikat"
      ]
    },
    {
      "cell_type": "markdown",
      "metadata": {
        "id": "cpgHfgnSK3ip"
      },
      "source": [
        "# **5. Data Preprocessing**"
      ]
    },
    {
      "cell_type": "markdown",
      "metadata": {
        "id": "COf8KUPXLg5r"
      },
      "source": [
        "Pada tahap ini, data preprocessing adalah langkah penting untuk memastikan kualitas data sebelum digunakan dalam model machine learning.\n",
        "\n",
        "Berikut adalah tahapan-tahapan yang dilakukan:\n",
        "1. Menghapus Data Duplikat\n",
        "2. Penanganan Outlier\n",
        "3. Encoding Data Kategorikal"
      ]
    },
    {
      "cell_type": "markdown",
      "metadata": {},
      "source": [
        "### **1. Penanganan Outlier**"
      ]
    },
    {
      "cell_type": "code",
      "execution_count": 146,
      "metadata": {},
      "outputs": [
        {
          "name": "stdout",
          "output_type": "stream",
          "text": [
            "      Tinggi Badan (cm)  Umur (bulan) Jenis Kelamin       Status Gizi\n",
            "1009          40.235944             0     perempuan  severely stunted\n",
            "1056          40.058140             0     perempuan  severely stunted\n",
            "1104          40.602533             0     perempuan  severely stunted\n",
            "1165          40.285473             0     perempuan  severely stunted\n",
            "1179          40.252380             0     perempuan  severely stunted\n",
            "1195          40.539600             0     perempuan  severely stunted\n",
            "1252          40.021110             0     perempuan  severely stunted\n",
            "1258          40.268891             0     perempuan  severely stunted\n",
            "1302          40.340323             0     perempuan  severely stunted\n",
            "1303          40.171322             0     perempuan  severely stunted\n",
            "1304          40.152816             0     perempuan  severely stunted\n",
            "1350          40.154283             0     perempuan  severely stunted\n",
            "1385          40.029406             0     perempuan  severely stunted\n",
            "1411          40.607114             0     perempuan  severely stunted\n",
            "1413          40.679524             0     perempuan  severely stunted\n",
            "1447          40.236622             0     perempuan  severely stunted\n",
            "1477          40.043251             0     perempuan  severely stunted\n",
            "1480          40.378451             0     perempuan  severely stunted\n",
            "1520          40.115298             0     perempuan  severely stunted\n",
            "1522          40.080841             0     perempuan  severely stunted\n",
            "1524          40.498500             0     perempuan  severely stunted\n",
            "1529          40.606526             0     perempuan  severely stunted\n",
            "1581          40.548950             0     perempuan  severely stunted\n",
            "1602          40.580805             0     perempuan  severely stunted\n",
            "1638          40.632117             0     perempuan  severely stunted\n",
            "1649          40.514496             0     perempuan  severely stunted\n",
            "1653          40.103765             0     perempuan  severely stunted\n",
            "1720          40.599705             0     perempuan  severely stunted\n",
            "1764          40.083594             0     perempuan  severely stunted\n",
            "1848          40.092326             0     perempuan  severely stunted\n",
            "1860          40.092457             0     perempuan  severely stunted\n",
            "1862          40.412386             0     perempuan  severely stunted\n",
            "1898          40.515646             0     perempuan  severely stunted\n",
            "1924          40.539687             0     perempuan  severely stunted\n",
            "1928          40.010437             0     perempuan  severely stunted\n",
            "1935          40.491016             0     perempuan  severely stunted\n",
            "1954          40.101553             0     perempuan  severely stunted\n",
            "1993          40.616955             0     perempuan  severely stunted\n"
          ]
        }
      ],
      "source": [
        "# hitung Q1, Q3, dan IQR untuk kolom Pregnancies\n",
        "Q1 = df['Tinggi Badan (cm)'].quantile(0.25)\n",
        "Q3 = df['Tinggi Badan (cm)'].quantile(0.75)\n",
        "IQR = Q3 - Q1\n",
        "\n",
        "# batas bawah dan atas untuk outlier\n",
        "lower_bound = Q1 - 1.5 * IQR\n",
        "upper_bound = Q3 + 1.5 * IQR\n",
        "\n",
        "# filter data untuk hanya menampilkan outlier\n",
        "outliers = df[(df['Tinggi Badan (cm)'] < lower_bound) |\n",
        "                       (df['Tinggi Badan (cm)'] > upper_bound)]\n",
        "\n",
        "# tabel outlier\n",
        "print(outliers[['Tinggi Badan (cm)', 'Umur (bulan)', 'Jenis Kelamin', 'Status Gizi']])"
      ]
    },
    {
      "cell_type": "code",
      "execution_count": 147,
      "metadata": {},
      "outputs": [
        {
          "name": "stdout",
          "output_type": "stream",
          "text": [
            "Jumlah data sebelum menghapus outlier: 120999\n",
            "\n",
            "Jumlah data setelah menghapus outlier: 120961\n"
          ]
        }
      ],
      "source": [
        "print(f\"Jumlah data sebelum menghapus outlier: {len(df)}\")\n",
        "\n",
        "# drop outlier\n",
        "df_no_outlier = df[(df['Tinggi Badan (cm)'] >= lower_bound) &\n",
        "(df['Tinggi Badan (cm)'] <= upper_bound)]\n",
        "\n",
        "# yampilkan data setelah outlier dihapus\n",
        "print(f\"\\nJumlah data setelah menghapus outlier: {len(df_no_outlier)}\")"
      ]
    },
    {
      "cell_type": "markdown",
      "metadata": {},
      "source": [
        "### **2. Menghapus Data Duplikat**"
      ]
    },
    {
      "cell_type": "code",
      "execution_count": 148,
      "metadata": {},
      "outputs": [
        {
          "name": "stdout",
          "output_type": "stream",
          "text": [
            "Jumlah duplikasi:  81574\n"
          ]
        }
      ],
      "source": [
        "print(\"Jumlah duplikasi: \", df_no_outlier.duplicated().sum())"
      ]
    },
    {
      "cell_type": "code",
      "execution_count": 149,
      "metadata": {},
      "outputs": [],
      "source": [
        "df_no_duplication = df.drop_duplicates()"
      ]
    },
    {
      "cell_type": "code",
      "execution_count": 150,
      "metadata": {},
      "outputs": [
        {
          "name": "stdout",
          "output_type": "stream",
          "text": [
            "Jumlah duplikasi:  0\n"
          ]
        }
      ],
      "source": [
        "print(\"Jumlah duplikasi: \", df_no_duplication.duplicated().sum())"
      ]
    },
    {
      "cell_type": "markdown",
      "metadata": {},
      "source": [
        "### **3. Encoding Data Kategorikal**"
      ]
    },
    {
      "cell_type": "code",
      "execution_count": 151,
      "metadata": {},
      "outputs": [
        {
          "data": {
            "text/html": [
              "<div>\n",
              "<style scoped>\n",
              "    .dataframe tbody tr th:only-of-type {\n",
              "        vertical-align: middle;\n",
              "    }\n",
              "\n",
              "    .dataframe tbody tr th {\n",
              "        vertical-align: top;\n",
              "    }\n",
              "\n",
              "    .dataframe thead th {\n",
              "        text-align: right;\n",
              "    }\n",
              "</style>\n",
              "<table border=\"1\" class=\"dataframe\">\n",
              "  <thead>\n",
              "    <tr style=\"text-align: right;\">\n",
              "      <th></th>\n",
              "      <th>Umur (bulan)</th>\n",
              "      <th>Jenis Kelamin</th>\n",
              "      <th>Tinggi Badan (cm)</th>\n",
              "      <th>Status Gizi</th>\n",
              "      <th>Umur_Group</th>\n",
              "      <th>Tinggi_Group</th>\n",
              "    </tr>\n",
              "  </thead>\n",
              "  <tbody>\n",
              "    <tr>\n",
              "      <th>91344</th>\n",
              "      <td>46</td>\n",
              "      <td>laki-laki</td>\n",
              "      <td>100.400000</td>\n",
              "      <td>normal</td>\n",
              "      <td>4</td>\n",
              "      <td>100-109</td>\n",
              "    </tr>\n",
              "    <tr>\n",
              "      <th>5707</th>\n",
              "      <td>2</td>\n",
              "      <td>perempuan</td>\n",
              "      <td>48.678143</td>\n",
              "      <td>severely stunted</td>\n",
              "      <td>1</td>\n",
              "      <td>40-49</td>\n",
              "    </tr>\n",
              "    <tr>\n",
              "      <th>38908</th>\n",
              "      <td>19</td>\n",
              "      <td>perempuan</td>\n",
              "      <td>67.700000</td>\n",
              "      <td>severely stunted</td>\n",
              "      <td>2</td>\n",
              "      <td>60-69</td>\n",
              "    </tr>\n",
              "    <tr>\n",
              "      <th>20397</th>\n",
              "      <td>10</td>\n",
              "      <td>perempuan</td>\n",
              "      <td>61.500000</td>\n",
              "      <td>severely stunted</td>\n",
              "      <td>1</td>\n",
              "      <td>60-69</td>\n",
              "    </tr>\n",
              "    <tr>\n",
              "      <th>23600</th>\n",
              "      <td>12</td>\n",
              "      <td>laki-laki</td>\n",
              "      <td>79.500000</td>\n",
              "      <td>normal</td>\n",
              "      <td>1</td>\n",
              "      <td>70-79</td>\n",
              "    </tr>\n",
              "  </tbody>\n",
              "</table>\n",
              "</div>"
            ],
            "text/plain": [
              "       Umur (bulan) Jenis Kelamin  Tinggi Badan (cm)       Status Gizi  \\\n",
              "91344            46     laki-laki         100.400000            normal   \n",
              "5707              2     perempuan          48.678143  severely stunted   \n",
              "38908            19     perempuan          67.700000  severely stunted   \n",
              "20397            10     perempuan          61.500000  severely stunted   \n",
              "23600            12     laki-laki          79.500000            normal   \n",
              "\n",
              "      Umur_Group Tinggi_Group  \n",
              "91344          4      100-109  \n",
              "5707           1        40-49  \n",
              "38908          2        60-69  \n",
              "20397          1        60-69  \n",
              "23600          1        70-79  "
            ]
          },
          "execution_count": 151,
          "metadata": {},
          "output_type": "execute_result"
        }
      ],
      "source": [
        "df.sample(5)"
      ]
    },
    {
      "cell_type": "code",
      "execution_count": 152,
      "metadata": {},
      "outputs": [],
      "source": [
        "df_encode = df_no_duplication[['Umur (bulan)','Jenis Kelamin','Tinggi Badan (cm)','Status Gizi']]"
      ]
    },
    {
      "cell_type": "code",
      "execution_count": 153,
      "metadata": {},
      "outputs": [
        {
          "name": "stderr",
          "output_type": "stream",
          "text": [
            "C:\\Users\\hi\\AppData\\Local\\Temp\\ipykernel_20648\\1819301823.py:2: SettingWithCopyWarning: \n",
            "A value is trying to be set on a copy of a slice from a DataFrame.\n",
            "Try using .loc[row_indexer,col_indexer] = value instead\n",
            "\n",
            "See the caveats in the documentation: https://pandas.pydata.org/pandas-docs/stable/user_guide/indexing.html#returning-a-view-versus-a-copy\n",
            "  df_encode['Jenis Kelamin'] = df_encode['Jenis Kelamin'].map({'laki-laki': 0, 'perempuan': 1})\n",
            "C:\\Users\\hi\\AppData\\Local\\Temp\\ipykernel_20648\\1819301823.py:5: SettingWithCopyWarning: \n",
            "A value is trying to be set on a copy of a slice from a DataFrame.\n",
            "Try using .loc[row_indexer,col_indexer] = value instead\n",
            "\n",
            "See the caveats in the documentation: https://pandas.pydata.org/pandas-docs/stable/user_guide/indexing.html#returning-a-view-versus-a-copy\n",
            "  df_encode['Status Gizi'] = df_encode['Status Gizi'].map({'severely stunted': 0, 'stunted': 1, 'normal': 2, 'tinggi': 3})\n"
          ]
        },
        {
          "data": {
            "text/html": [
              "<div>\n",
              "<style scoped>\n",
              "    .dataframe tbody tr th:only-of-type {\n",
              "        vertical-align: middle;\n",
              "    }\n",
              "\n",
              "    .dataframe tbody tr th {\n",
              "        vertical-align: top;\n",
              "    }\n",
              "\n",
              "    .dataframe thead th {\n",
              "        text-align: right;\n",
              "    }\n",
              "</style>\n",
              "<table border=\"1\" class=\"dataframe\">\n",
              "  <thead>\n",
              "    <tr style=\"text-align: right;\">\n",
              "      <th></th>\n",
              "      <th>Umur (bulan)</th>\n",
              "      <th>Jenis Kelamin</th>\n",
              "      <th>Tinggi Badan (cm)</th>\n",
              "      <th>Status Gizi</th>\n",
              "    </tr>\n",
              "  </thead>\n",
              "  <tbody>\n",
              "    <tr>\n",
              "      <th>93611</th>\n",
              "      <td>47</td>\n",
              "      <td>0</td>\n",
              "      <td>88.000000</td>\n",
              "      <td>0</td>\n",
              "    </tr>\n",
              "    <tr>\n",
              "      <th>90504</th>\n",
              "      <td>45</td>\n",
              "      <td>1</td>\n",
              "      <td>112.100000</td>\n",
              "      <td>2</td>\n",
              "    </tr>\n",
              "    <tr>\n",
              "      <th>88371</th>\n",
              "      <td>44</td>\n",
              "      <td>1</td>\n",
              "      <td>108.500000</td>\n",
              "      <td>2</td>\n",
              "    </tr>\n",
              "    <tr>\n",
              "      <th>16098</th>\n",
              "      <td>8</td>\n",
              "      <td>0</td>\n",
              "      <td>82.800000</td>\n",
              "      <td>3</td>\n",
              "    </tr>\n",
              "    <tr>\n",
              "      <th>113054</th>\n",
              "      <td>57</td>\n",
              "      <td>0</td>\n",
              "      <td>92.400000</td>\n",
              "      <td>0</td>\n",
              "    </tr>\n",
              "    <tr>\n",
              "      <th>86020</th>\n",
              "      <td>43</td>\n",
              "      <td>1</td>\n",
              "      <td>102.000000</td>\n",
              "      <td>2</td>\n",
              "    </tr>\n",
              "    <tr>\n",
              "      <th>102045</th>\n",
              "      <td>51</td>\n",
              "      <td>1</td>\n",
              "      <td>103.500000</td>\n",
              "      <td>2</td>\n",
              "    </tr>\n",
              "    <tr>\n",
              "      <th>56146</th>\n",
              "      <td>28</td>\n",
              "      <td>1</td>\n",
              "      <td>86.900000</td>\n",
              "      <td>2</td>\n",
              "    </tr>\n",
              "    <tr>\n",
              "      <th>5689</th>\n",
              "      <td>2</td>\n",
              "      <td>1</td>\n",
              "      <td>63.921839</td>\n",
              "      <td>3</td>\n",
              "    </tr>\n",
              "    <tr>\n",
              "      <th>58342</th>\n",
              "      <td>29</td>\n",
              "      <td>1</td>\n",
              "      <td>89.300000</td>\n",
              "      <td>2</td>\n",
              "    </tr>\n",
              "    <tr>\n",
              "      <th>104129</th>\n",
              "      <td>52</td>\n",
              "      <td>1</td>\n",
              "      <td>114.200000</td>\n",
              "      <td>2</td>\n",
              "    </tr>\n",
              "    <tr>\n",
              "      <th>114219</th>\n",
              "      <td>57</td>\n",
              "      <td>1</td>\n",
              "      <td>104.600000</td>\n",
              "      <td>2</td>\n",
              "    </tr>\n",
              "    <tr>\n",
              "      <th>90130</th>\n",
              "      <td>45</td>\n",
              "      <td>1</td>\n",
              "      <td>109.900000</td>\n",
              "      <td>2</td>\n",
              "    </tr>\n",
              "    <tr>\n",
              "      <th>15090</th>\n",
              "      <td>7</td>\n",
              "      <td>1</td>\n",
              "      <td>58.700000</td>\n",
              "      <td>0</td>\n",
              "    </tr>\n",
              "    <tr>\n",
              "      <th>30406</th>\n",
              "      <td>15</td>\n",
              "      <td>1</td>\n",
              "      <td>83.100000</td>\n",
              "      <td>2</td>\n",
              "    </tr>\n",
              "    <tr>\n",
              "      <th>51037</th>\n",
              "      <td>26</td>\n",
              "      <td>0</td>\n",
              "      <td>102.000000</td>\n",
              "      <td>3</td>\n",
              "    </tr>\n",
              "    <tr>\n",
              "      <th>79880</th>\n",
              "      <td>40</td>\n",
              "      <td>0</td>\n",
              "      <td>109.800000</td>\n",
              "      <td>2</td>\n",
              "    </tr>\n",
              "    <tr>\n",
              "      <th>55069</th>\n",
              "      <td>28</td>\n",
              "      <td>0</td>\n",
              "      <td>101.300000</td>\n",
              "      <td>3</td>\n",
              "    </tr>\n",
              "    <tr>\n",
              "      <th>15085</th>\n",
              "      <td>7</td>\n",
              "      <td>1</td>\n",
              "      <td>79.800000</td>\n",
              "      <td>3</td>\n",
              "    </tr>\n",
              "    <tr>\n",
              "      <th>72405</th>\n",
              "      <td>36</td>\n",
              "      <td>1</td>\n",
              "      <td>91.100000</td>\n",
              "      <td>2</td>\n",
              "    </tr>\n",
              "  </tbody>\n",
              "</table>\n",
              "</div>"
            ],
            "text/plain": [
              "        Umur (bulan)  Jenis Kelamin  Tinggi Badan (cm)  Status Gizi\n",
              "93611             47              0          88.000000            0\n",
              "90504             45              1         112.100000            2\n",
              "88371             44              1         108.500000            2\n",
              "16098              8              0          82.800000            3\n",
              "113054            57              0          92.400000            0\n",
              "86020             43              1         102.000000            2\n",
              "102045            51              1         103.500000            2\n",
              "56146             28              1          86.900000            2\n",
              "5689               2              1          63.921839            3\n",
              "58342             29              1          89.300000            2\n",
              "104129            52              1         114.200000            2\n",
              "114219            57              1         104.600000            2\n",
              "90130             45              1         109.900000            2\n",
              "15090              7              1          58.700000            0\n",
              "30406             15              1          83.100000            2\n",
              "51037             26              0         102.000000            3\n",
              "79880             40              0         109.800000            2\n",
              "55069             28              0         101.300000            3\n",
              "15085              7              1          79.800000            3\n",
              "72405             36              1          91.100000            2"
            ]
          },
          "execution_count": 153,
          "metadata": {},
          "output_type": "execute_result"
        }
      ],
      "source": [
        "# jenis kelamin\n",
        "df_encode['Jenis Kelamin'] = df_encode['Jenis Kelamin'].map({'laki-laki': 0, 'perempuan': 1})\n",
        "\n",
        "# status gizi\n",
        "df_encode['Status Gizi'] = df_encode['Status Gizi'].map({'severely stunted': 0, 'stunted': 1, 'normal': 2, 'tinggi': 3})\n",
        "\n",
        "df_encode.sample(20)"
      ]
    },
    {
      "cell_type": "code",
      "execution_count": 155,
      "metadata": {},
      "outputs": [
        {
          "data": {
            "text/html": [
              "<div>\n",
              "<style scoped>\n",
              "    .dataframe tbody tr th:only-of-type {\n",
              "        vertical-align: middle;\n",
              "    }\n",
              "\n",
              "    .dataframe tbody tr th {\n",
              "        vertical-align: top;\n",
              "    }\n",
              "\n",
              "    .dataframe thead th {\n",
              "        text-align: right;\n",
              "    }\n",
              "</style>\n",
              "<table border=\"1\" class=\"dataframe\">\n",
              "  <thead>\n",
              "    <tr style=\"text-align: right;\">\n",
              "      <th></th>\n",
              "      <th>Umur (bulan)</th>\n",
              "      <th>Jenis Kelamin</th>\n",
              "      <th>Tinggi Badan (cm)</th>\n",
              "    </tr>\n",
              "  </thead>\n",
              "  <tbody>\n",
              "    <tr>\n",
              "      <th>0</th>\n",
              "      <td>0</td>\n",
              "      <td>0</td>\n",
              "      <td>44.591973</td>\n",
              "    </tr>\n",
              "    <tr>\n",
              "      <th>1</th>\n",
              "      <td>0</td>\n",
              "      <td>0</td>\n",
              "      <td>56.705203</td>\n",
              "    </tr>\n",
              "    <tr>\n",
              "      <th>2</th>\n",
              "      <td>0</td>\n",
              "      <td>0</td>\n",
              "      <td>46.863358</td>\n",
              "    </tr>\n",
              "    <tr>\n",
              "      <th>3</th>\n",
              "      <td>0</td>\n",
              "      <td>0</td>\n",
              "      <td>47.508026</td>\n",
              "    </tr>\n",
              "    <tr>\n",
              "      <th>4</th>\n",
              "      <td>0</td>\n",
              "      <td>0</td>\n",
              "      <td>42.743494</td>\n",
              "    </tr>\n",
              "    <tr>\n",
              "      <th>...</th>\n",
              "      <td>...</td>\n",
              "      <td>...</td>\n",
              "      <td>...</td>\n",
              "    </tr>\n",
              "    <tr>\n",
              "      <th>120959</th>\n",
              "      <td>60</td>\n",
              "      <td>1</td>\n",
              "      <td>100.700000</td>\n",
              "    </tr>\n",
              "    <tr>\n",
              "      <th>120967</th>\n",
              "      <td>60</td>\n",
              "      <td>1</td>\n",
              "      <td>113.700000</td>\n",
              "    </tr>\n",
              "    <tr>\n",
              "      <th>120968</th>\n",
              "      <td>60</td>\n",
              "      <td>1</td>\n",
              "      <td>107.500000</td>\n",
              "    </tr>\n",
              "    <tr>\n",
              "      <th>120972</th>\n",
              "      <td>60</td>\n",
              "      <td>1</td>\n",
              "      <td>127.600000</td>\n",
              "    </tr>\n",
              "    <tr>\n",
              "      <th>120993</th>\n",
              "      <td>60</td>\n",
              "      <td>1</td>\n",
              "      <td>116.100000</td>\n",
              "    </tr>\n",
              "  </tbody>\n",
              "</table>\n",
              "<p>39425 rows × 3 columns</p>\n",
              "</div>"
            ],
            "text/plain": [
              "        Umur (bulan)  Jenis Kelamin  Tinggi Badan (cm)\n",
              "0                  0              0          44.591973\n",
              "1                  0              0          56.705203\n",
              "2                  0              0          46.863358\n",
              "3                  0              0          47.508026\n",
              "4                  0              0          42.743494\n",
              "...              ...            ...                ...\n",
              "120959            60              1         100.700000\n",
              "120967            60              1         113.700000\n",
              "120968            60              1         107.500000\n",
              "120972            60              1         127.600000\n",
              "120993            60              1         116.100000\n",
              "\n",
              "[39425 rows x 3 columns]"
            ]
          },
          "execution_count": 155,
          "metadata": {},
          "output_type": "execute_result"
        }
      ],
      "source": [
        "from sklearn.model_selection import train_test_split\n",
        "\n",
        "# memisahkan fitur dan target\n",
        "X = df_encode.iloc[:, 1:6]\n",
        "X = df_encode.drop('Status Gizi', axis=1)\n",
        "y = df_encode['Status Gizi']\n",
        "\n",
        "# membagi dataset menjadi data latih dan data uji\n",
        "X_train, X_test, y_train, y_test = train_test_split(X, y, test_size=0.2, random_state=42)\n",
        "X"
      ]
    },
    {
      "cell_type": "code",
      "execution_count": 168,
      "metadata": {},
      "outputs": [],
      "source": [
        "df_encode.to_csv(\"data_balita_preprocessing.csv\", index=False)"
      ]
    }
  ],
  "metadata": {
    "accelerator": "GPU",
    "colab": {
      "gpuType": "T4",
      "provenance": []
    },
    "kernelspec": {
      "display_name": ".venv",
      "language": "python",
      "name": "python3"
    },
    "language_info": {
      "codemirror_mode": {
        "name": "ipython",
        "version": 3
      },
      "file_extension": ".py",
      "mimetype": "text/x-python",
      "name": "python",
      "nbconvert_exporter": "python",
      "pygments_lexer": "ipython3",
      "version": "3.12.3"
    }
  },
  "nbformat": 4,
  "nbformat_minor": 0
}
